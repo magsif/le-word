{
 "cells": [
  {
   "cell_type": "markdown",
   "id": "a9db7f18",
   "metadata": {},
   "source": [
    "# Two Agents Collaborating to Solve LeWord Puzzle Game\n",
    "\n",
    "This notebook demonstrates a multi-agent AI system designed to collaboratively play and solve the LeWord puzzle game. The setup includes two specialized AI agents:\n",
    "\n",
    "1. **Vision Agent:** Processes visual representations of the game board to understand the current game state, using rendered images of guesses and their feedback.\n",
    "\n",
    "2. **Word Agent:** Uses the structured game state information combined with the vision agent’s embeddings to decide the next best guess.\n",
    "\n",
    "The agents interact through a set of tools including guessing, requesting hints, and rendering the game board image as base64. The game state is modeled using Pydantic data classes for structured and type-safe communication. This architecture showcases:\n",
    "\n",
    "- Multi-agent cooperation  \n",
    "- Use of vision models to interpret game state visually  \n",
    "- Structured data exchange with Pydantic schemas  \n",
    "- Integration of multiple tool functions for flexible AI reasoning\n",
    "\n",
    "The notebook runs the game loop where the agents iteratively update their understanding and make guesses until the puzzle is solved or attempts are exhausted.\n"
   ]
  },
  {
   "cell_type": "code",
   "execution_count": 1,
   "id": "cd650814",
   "metadata": {},
   "outputs": [],
   "source": [
    "# Enable automatic reloading of modules\n",
    "%load_ext autoreload\n",
    "%autoreload 2"
   ]
  },
  {
   "cell_type": "code",
   "execution_count": 2,
   "id": "40ed2b16",
   "metadata": {},
   "outputs": [],
   "source": [
    "import sys\n",
    "import os\n",
    "\n",
    "# Add the project root (1 level up from 'notebooks/') to Python path\n",
    "project_root = os.path.abspath(os.path.join(os.getcwd(), '..'))\n",
    "if project_root not in sys.path:\n",
    "    sys.path.append(project_root)\n"
   ]
  },
  {
   "cell_type": "code",
   "execution_count": 3,
   "id": "673f44ee",
   "metadata": {},
   "outputs": [
    {
     "name": "stderr",
     "output_type": "stream",
     "text": [
      "/home/magnus/.local/lib/python3.10/site-packages/tqdm/auto.py:21: TqdmWarning: IProgress not found. Please update jupyter and ipywidgets. See https://ipywidgets.readthedocs.io/en/stable/user_install.html\n",
      "  from .autonotebook import tqdm as notebook_tqdm\n",
      "2025-06-08 23:49:57.986842: I tensorflow/core/util/port.cc:113] oneDNN custom operations are on. You may see slightly different numerical results due to floating-point round-off errors from different computation orders. To turn them off, set the environment variable `TF_ENABLE_ONEDNN_OPTS=0`.\n",
      "2025-06-08 23:49:58.391862: I tensorflow/core/platform/cpu_feature_guard.cc:210] This TensorFlow binary is optimized to use available CPU instructions in performance-critical operations.\n",
      "To enable the following instructions: AVX2 AVX_VNNI FMA, in other operations, rebuild TensorFlow with the appropriate compiler flags.\n",
      "2025-06-08 23:49:59.537139: W tensorflow/compiler/tf2tensorrt/utils/py_utils.cc:38] TF-TRT Warning: Could not find TensorRT\n",
      "Using a slow image processor as `use_fast` is unset and a slow processor was saved with this model. `use_fast=True` will be the default behavior in v4.52, even if the model was saved with a slow processor. This will result in minor differences in outputs. You'll still be able to use a slow processor with `use_fast=False`.\n"
     ]
    },
    {
     "name": "stdout",
     "output_type": "stream",
     "text": [
      "Turn 1\n",
      "Guess: toyota, Feedback: {'guess': 'toyota', 'feedback': '?????a', 'score': 0, 'correct': False}\n",
      "Turn 2\n",
      "Guess: datsun, Feedback: {'guess': 'datsun', 'feedback': '?a?su?', 'score': 0, 'correct': False}\n",
      "Turn 3\n",
      "Guess: mazda, Feedback: {'guess': 'mazda', 'feedback': 'Invalid length of characters.', 'score': False, 'correct': False}\n",
      "Turn 4\n",
      "Guess: suzuki, Feedback: {'guess': 'suzuki', 'feedback': 'SU?u??', 'score': 0, 'correct': False}\n",
      "Turn 5\n"
     ]
    },
    {
     "name": "stderr",
     "output_type": "stream",
     "text": [
      "/home/magnus/private/le-word/vision/render_board.py:28: UserWarning: Tight layout not applied. The left and right margins cannot be made large enough to accommodate all Axes decorations.\n",
      "  plt.tight_layout()\n"
     ]
    },
    {
     "name": "stdout",
     "output_type": "stream",
     "text": [
      "Guess: lexus, Feedback: {'guess': 'lexus', 'feedback': 'Invalid length of characters.', 'score': False, 'correct': False}\n",
      "Turn 6\n",
      "Guess: honda, Feedback: {'guess': 'honda', 'feedback': 'Invalid length of characters.', 'score': False, 'correct': False}\n",
      "Turn 7\n",
      "Guess: nissan, Feedback: {'guess': 'nissan', 'feedback': '??s?a?', 'score': 0, 'correct': False}\n",
      "Turn 8\n",
      "Guess: subaru, Feedback: {'guess': 'subaru', 'feedback': 'SUBARU', 'score': 60, 'correct': True}\n",
      "🎉 Correct word guessed! Game over.\n"
     ]
    }
   ],
   "source": [
    "import json\n",
    "from game.leword_game import LeWordGame\n",
    "from tools.game_tools import guess, available_tools\n",
    "from agents.vision_agent import vision_agent_process_board\n",
    "from agents.word_agent import word_agent_decide_guess\n",
    "from models.schemas import GameState, GuessResult\n",
    "from PIL import Image\n",
    "import base64\n",
    "from io import BytesIO\n",
    "from vision.render_board import render_leword_board\n",
    "\n",
    "# Create game instance\n",
    "the_word = \"subaru\"  # Example word\n",
    "the_hint = \"Japanese car brand.\"  # Example hint\n",
    "game = LeWordGame(the_word, the_hint, 10)\n",
    "\n",
    "# Initialize tools\n",
    "functions = available_tools()\n",
    "\n",
    "def decode_base64_image(img_b64: str) -> Image.Image:\n",
    "    img_data = base64.b64decode(img_b64)\n",
    "    return Image.open(BytesIO(img_data))\n",
    "\n",
    "def run_turn(game):\n",
    "    if not game.attempts:\n",
    "        dummy_board = [[' ']*len(game.target_word)]\n",
    "        board_img = render_leword_board(dummy_board, len(the_word))        \n",
    "    else:\n",
    "        board_img = render_leword_board([list(attempt.feedback) for attempt in game.attempts], len(game.target_word))\n",
    "\n",
    "    # Step 1: Render board and encode image\n",
    "    vision_embedding = vision_agent_process_board(board_img)\n",
    "\n",
    "    game_state = GameState(\n",
    "        attempts=[\n",
    "            GuessResult(\n",
    "                guess=attempt.guess,\n",
    "                feedback=attempt.feedback,\n",
    "                correct=(attempt.guess.lower() == game.target_word.lower())\n",
    "            )\n",
    "            for attempt in game.attempts\n",
    "        ],\n",
    "        attempts_left=game.max_attempts - len(game.attempts),\n",
    "        word_length=len(game.target_word)\n",
    "    )    \n",
    "\n",
    "    # Step 3: Word agent decides next guess based on vision + game state\n",
    "    next_guess = word_agent_decide_guess(vision_embedding, game_state)\n",
    "\n",
    "    # Step 4: Call guess tool with next_guess\n",
    "    tool_response = guess(next_guess, game=game)\n",
    "    print(f\"Guess: {next_guess}, Feedback: {tool_response}\")\n",
    "\n",
    "    # Step 5: Check win condition\n",
    "    game_over = tool_response.get(\"correct\", False)\n",
    "\n",
    "    return game_over\n",
    "\n",
    "# Run game loop\n",
    "for turn in range(game.max_attempts):\n",
    "    print(f\"Turn {turn+1}\")\n",
    "    game_over = run_turn(game)\n",
    "    if game_over:\n",
    "        print(\"🎉 Correct word guessed! Game over.\")\n",
    "        break\n",
    "else:\n",
    "    print(\"❌ Max attempts reached. Game over.\")\n"
   ]
  }
 ],
 "metadata": {
  "kernelspec": {
   "display_name": "Python 3",
   "language": "python",
   "name": "python3"
  },
  "language_info": {
   "codemirror_mode": {
    "name": "ipython",
    "version": 3
   },
   "file_extension": ".py",
   "mimetype": "text/x-python",
   "name": "python",
   "nbconvert_exporter": "python",
   "pygments_lexer": "ipython3",
   "version": "3.10.12"
  }
 },
 "nbformat": 4,
 "nbformat_minor": 5
}
